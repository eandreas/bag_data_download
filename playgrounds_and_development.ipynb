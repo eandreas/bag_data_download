{
 "cells": [
  {
   "cell_type": "markdown",
   "metadata": {},
   "source": [
    "## Content of download.py - FINAL"
   ]
  },
  {
   "cell_type": "code",
   "execution_count": 1,
   "metadata": {},
   "outputs": [],
   "source": [
    "import requests\n",
    "import filecmp\n",
    "from pathlib import Path\n",
    "from datetime import datetime\n",
    "\n",
    "URLs = {\n",
    "    'BAG_test_data': 'https://www.bag.admin.ch/dam/bag/de/dokumente/mt/k-und-i/aktuelle-ausbrueche-pandemien/2019-nCoV/covid-19-basisdaten-labortests.xlsx.download.xlsx/Dashboard_3_COVID19_labtests_positivity.xlsx',\n",
    "    'BAG_report_data': 'https://www.bag.admin.ch/dam/bag/de/dokumente/mt/k-und-i/aktuelle-ausbrueche-pandemien/2019-nCoV/covid-19-datengrundlage-lagebericht.xlsx.download.xlsx/200325_Datengrundlage_Grafiken_COVID-19-Bericht.xlsx',\n",
    "    'BAG_cases_data': 'https://www.bag.admin.ch/dam/bag/de/dokumente/mt/k-und-i/aktuelle-ausbrueche-pandemien/2019-nCoV/covid-19-basisdaten-fallzahlen.xlsx.download.xlsx/Dashboards_1&2_COVID19_swiss_data_pv.xlsx',\n",
    "    'BAG_csv_data': 'https://www.covid19.admin.ch/api/data/20201106-n2t4sx0k/downloads/sources-csv.zip'\n",
    "}\n",
    "\n",
    "def download(url, target_dir = Path.cwd(), file_name = None, overwrite = False):\n",
    "    '''\n",
    "    Downloads a file from an url into target_dir. If no file_name is probided, the file is named\n",
    "    as defined by the url. In case there is already a file named file_name within target_dir, overwrite=True\n",
    "    needs to be set to force saving the download.\n",
    "    '''\n",
    "    # get the file name from url if fn is None\n",
    "    if file_name is None:\n",
    "        file_name = url.split('/')[-1]\n",
    "    # exit if the file already exists and overwrite = False\n",
    "    f = target_dir / file_name\n",
    "    if (f.exists() and not overwrite):\n",
    "        return\n",
    "    # download and save the file\n",
    "    r = requests.get(url, allow_redirects=True)\n",
    "    open(f, 'wb').write(r.content)\n",
    "    return f\n",
    "\n",
    "    \n",
    "def download_if_new(url, target_dir, suffix = ''):\n",
    "    '''\n",
    "    Downloads a file fro url and stores it in target_dir unless there is already a file with\n",
    "    the same content (byte-by-byte comparison).\n",
    "    '''\n",
    "    # get the last modified file\n",
    "    try:\n",
    "        time, latest = max((f.stat().st_mtime, f) for f in target_dir.glob('*' + suffix))\n",
    "    except ValueError as e:\n",
    "        latest = None\n",
    "    # download the current file from bag\n",
    "    f_download = download(url, target_dir, file_name = 'tmp', overwrite = True)\n",
    "    \n",
    "    # compare the latest file with the current download\n",
    "    if (latest is None):\n",
    "        same = False\n",
    "    else:\n",
    "        same = filecmp.cmp(str(latest), str(f_download), shallow = False)\n",
    "    \n",
    "    # rename or remove the current download if defferent from the previous file\n",
    "    if not same:\n",
    "        prefix = datetime.now().strftime(\"%Y-%m-%d_%H-%M\")\n",
    "        f_new = target_dir / (prefix + '_' + url.split('/')[-1])\n",
    "        f_download.replace(f_new)\n",
    "    else:\n",
    "        f_download.unlink()\n",
    "    \n",
    "download_if_new(URLs['BAG_report_data'], Path('downloads/report_data'), suffix = '.xlsx')\n",
    "download_if_new(URLs['BAG_test_data'], Path('downloads/test_data'), suffix = '.xlsx')\n",
    "download_if_new(URLs['BAG_cases_data'], Path('downloads/cases_data'), suffix = '.xlsx')\n",
    "download_if_new(URLs['BAG_csv_data'], Path('downloads/csv_data'), suffix = '.zip')"
   ]
  },
  {
   "cell_type": "markdown",
   "metadata": {},
   "source": [
    "## Playgrounds"
   ]
  },
  {
   "cell_type": "code",
   "execution_count": null,
   "metadata": {},
   "outputs": [],
   "source": []
  }
 ],
 "metadata": {
  "kernelspec": {
   "display_name": "dash-sample-app",
   "language": "python",
   "name": "dash-sample-app"
  },
  "language_info": {
   "codemirror_mode": {
    "name": "ipython",
    "version": 3
   },
   "file_extension": ".py",
   "mimetype": "text/x-python",
   "name": "python",
   "nbconvert_exporter": "python",
   "pygments_lexer": "ipython3",
   "version": "3.7.7"
  }
 },
 "nbformat": 4,
 "nbformat_minor": 4
}
