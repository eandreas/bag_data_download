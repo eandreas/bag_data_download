{
 "cells": [
  {
   "cell_type": "markdown",
   "metadata": {},
   "source": [
    "## Download BAG Data"
   ]
  },
  {
   "cell_type": "code",
   "execution_count": 11,
   "metadata": {},
   "outputs": [],
   "source": [
    "import requests\n",
    "import os.path\n",
    "from datetime import datetime\n",
    "import filecmp"
   ]
  },
  {
   "cell_type": "code",
   "execution_count": 2,
   "metadata": {},
   "outputs": [],
   "source": [
    "URLs = {\n",
    "    'BAG_test_data': 'https://www.bag.admin.ch/dam/bag/de/dokumente/mt/k-und-i/aktuelle-ausbrueche-pandemien/2019-nCoV/covid-19-basisdaten-labortests.xlsx.download.xlsx/Dashboard_3_COVID19_labtests_positivity.xlsx',\n",
    "    'BAG_report_data': 'https://www.bag.admin.ch/dam/bag/de/dokumente/mt/k-und-i/aktuelle-ausbrueche-pandemien/2019-nCoV/covid-19-datengrundlage-lagebericht.xlsx.download.xlsx/200325_Datengrundlage_Grafiken_COVID-19-Bericht.xlsx'\n",
    "}"
   ]
  },
  {
   "cell_type": "code",
   "execution_count": 3,
   "metadata": {},
   "outputs": [],
   "source": [
    "def download_file(url, path = '.', fn = None, overwrite = False):\n",
    "    # get the file name from url if not specified by fn argument\n",
    "    if fn == None:\n",
    "        fn = url.split('/')[-1]\n",
    "    # exit if file already exists and overwrite = False\n",
    "    if ((overwrite == False) and (os.path.isfile(path + '/' + fn))):\n",
    "        return\n",
    "    # download and save the file\n",
    "    r = requests.get(url, allow_redirects=True)\n",
    "    open(path + '/' + fn, 'wb').write(r.content)"
   ]
  },
  {
   "cell_type": "code",
   "execution_count": 88,
   "metadata": {},
   "outputs": [],
   "source": [
    "url = URLs['BAG_report_data']\n",
    "target_dir = 'downloads/report_data/'\n",
    "\n",
    "# list of all files within target_dir\n",
    "ls = [f for f in os.listdir(target_dir) if os.path.isfile(os.path.join(target_dir, f))]\n",
    "\n",
    "# download the current file from bag\n",
    "fn = target_dir + 'xxx_' + url.split('/')[-1]\n",
    "download_file(URLs['BAG_report_data'], fn = fn, overwrite = True)\n",
    "\n",
    "# remembers if the downloaded file should be kept, initially keep = False\n",
    "keep = False\n",
    "\n",
    "if (len(ls) < 1):\n",
    "    # keep the downloaded file if it is the only one\n",
    "    keep = True\n",
    "else:\n",
    "    # compare the downloaded file to the previous one and keep if not identical\n",
    "    latest = target_dir + sorted(ls)[-1]\n",
    "    if not filecmp.cmp(latest, fn):\n",
    "        keep = True\n",
    "        \n",
    "if keep:\n",
    "    # rename and keep the downloaded file\n",
    "    date_time = datetime.now().strftime(\"%d-%m-%Y_%H-%M\")\n",
    "    fn_new = target_dir + '/' + date_time + '_' + url.split('/')[-1]\n",
    "    os.rename(fn, fn_new)\n",
    "else:\n",
    "    # delete the downloaded file\n",
    "    os.remove(fn)"
   ]
  },
  {
   "cell_type": "code",
   "execution_count": null,
   "metadata": {},
   "outputs": [],
   "source": []
  }
 ],
 "metadata": {
  "kernelspec": {
   "display_name": "dash-sample-app",
   "language": "python",
   "name": "dash-sample-app"
  },
  "language_info": {
   "codemirror_mode": {
    "name": "ipython",
    "version": 3
   },
   "file_extension": ".py",
   "mimetype": "text/x-python",
   "name": "python",
   "nbconvert_exporter": "python",
   "pygments_lexer": "ipython3",
   "version": "3.7.7"
  }
 },
 "nbformat": 4,
 "nbformat_minor": 4
}
