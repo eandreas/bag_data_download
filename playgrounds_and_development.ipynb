{
 "cells": [
  {
   "cell_type": "markdown",
   "metadata": {},
   "source": [
    "## Download BAG Data"
   ]
  },
  {
   "cell_type": "code",
   "execution_count": 1,
   "metadata": {},
   "outputs": [],
   "source": [
    "import requests\n",
    "import os.path\n",
    "from datetime import datetime\n",
    "import filecmp"
   ]
  },
  {
   "cell_type": "code",
   "execution_count": 4,
   "metadata": {},
   "outputs": [],
   "source": [
    "URLs = {\n",
    "    'BAG_test_data': 'https://www.bag.admin.ch/dam/bag/de/dokumente/mt/k-und-i/aktuelle-ausbrueche-pandemien/2019-nCoV/covid-19-basisdaten-labortests.xlsx.download.xlsx/Dashboard_3_COVID19_labtests_positivity.xlsx',\n",
    "    'BAG_report_data': 'https://www.bag.admin.ch/dam/bag/de/dokumente/mt/k-und-i/aktuelle-ausbrueche-pandemien/2019-nCoV/covid-19-datengrundlage-lagebericht.xlsx.download.xlsx/200325_Datengrundlage_Grafiken_COVID-19-Bericht.xlsx',\n",
    "    'BAG_cases_data': 'https://www.bag.admin.ch/dam/bag/de/dokumente/mt/k-und-i/aktuelle-ausbrueche-pandemien/2019-nCoV/covid-19-basisdaten-fallzahlen.xlsx.download.xlsx/Dashboards_1&2_COVID19_swiss_data_pv.xlsx'\n",
    "}\n",
    "\n",
    "def download_file(url, path = '.', fn = None, overwrite = False):\n",
    "    # get the file name from url if not specified by fn argument\n",
    "    if fn == None:\n",
    "        fn = url.split('/')[-1]\n",
    "    # exit if file already exists and overwrite = False\n",
    "    if ((overwrite == False) and (os.path.isfile(path + '/' + fn))):\n",
    "        return\n",
    "    # download and save the file\n",
    "    r = requests.get(url, allow_redirects=True)\n",
    "    open(path + '/' + fn, 'wb').write(r.content)\n",
    "\n",
    "def download_and_keep_if_new(url, target_dir):   \n",
    "    # list of all files within target_dir\n",
    "    ls = [f for f in os.listdir(target_dir) if os.path.isfile(os.path.join(target_dir, f))]\n",
    "    # download the current file from bag\n",
    "    fn = target_dir + 'xxx_' + url.split('/')[-1]\n",
    "    download_file(url, fn = fn, overwrite = True)\n",
    "    # remembers if the downloaded file should be kept, initially keep = False\n",
    "    keep = False\n",
    "    if (len(ls) < 1):\n",
    "        # keep the downloaded file if it is the only one\n",
    "        keep = True\n",
    "    else:\n",
    "        # compare the downloaded file to the previous one and keep if not identical\n",
    "        latest = target_dir + sorted(ls)[-1]\n",
    "        print(f'comparing {latest} and {fn}')\n",
    "        if not filecmp.cmp(latest, fn, shallow = False):\n",
    "            keep = True\n",
    "    if keep:\n",
    "        # rename and keep the downloaded file\n",
    "        date_time = datetime.now().strftime(\"%Y-%m-%d_%H-%M\")\n",
    "        fn_new = target_dir + date_time + '_' + url.split('/')[-1]\n",
    "        os.rename(fn, fn_new)\n",
    "        print(f'Keeping new file {fn_new}')\n",
    "    else:\n",
    "        # delete the downloaded file\n",
    "        os.remove(fn)\n",
    "        \n",
    "download_and_keep_if_new(URLs['BAG_report_data'], 'downloads/report_data/')\n",
    "download_and_keep_if_new(URLs['BAG_test_data'], 'downloads/test_data/')\n",
    "download_and_keep_if_new(URLs['BAG_cases_data'], 'downloads/cases_data/')"
   ]
  },
  {
   "cell_type": "code",
   "execution_count": null,
   "metadata": {},
   "outputs": [],
   "source": []
  },
  {
   "cell_type": "code",
   "execution_count": null,
   "metadata": {},
   "outputs": [],
   "source": []
  },
  {
   "cell_type": "code",
   "execution_count": null,
   "metadata": {},
   "outputs": [],
   "source": []
  }
 ],
 "metadata": {
  "kernelspec": {
   "display_name": "dash-sample-app",
   "language": "python",
   "name": "dash-sample-app"
  },
  "language_info": {
   "codemirror_mode": {
    "name": "ipython",
    "version": 3
   },
   "file_extension": ".py",
   "mimetype": "text/x-python",
   "name": "python",
   "nbconvert_exporter": "python",
   "pygments_lexer": "ipython3",
   "version": "3.7.7"
  }
 },
 "nbformat": 4,
 "nbformat_minor": 4
}
